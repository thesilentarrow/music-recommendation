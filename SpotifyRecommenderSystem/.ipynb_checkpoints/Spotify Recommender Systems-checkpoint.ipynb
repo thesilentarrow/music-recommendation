{
 "cells": [
  {
   "cell_type": "markdown",
   "metadata": {},
   "source": [
    "# Building Recommender Systems with Spotify Data"
   ]
  },
  {
   "cell_type": "markdown",
   "metadata": {},
   "source": [
    "## Import Libraries"
   ]
  },
  {
   "cell_type": "code",
   "execution_count": null,
   "metadata": {},
   "outputs": [],
   "source": [
    "import numpy as np\n",
    "import pandas as pd\n",
    "import matplotlib.pyplot as plt\n",
    "import seaborn as sns\n",
    "import spotipy\n",
    "import datapane as dp\n",
    "import chart_studio.plotly as py\n",
    "import chart_studio\n",
    "import os\n",
    "# username = os.environ['PLOTLY_USERNAME']\n",
    "# api_key = os.environ['PLOTLY_API_KEY']\n",
    "# chart_studio.tools.set_credentials_file(username=username, api_key=api_key)\n",
    "plt.rcParams.update({'font.size': 22})\n",
    "%matplotlib inline"
   ]
  },
  {
   "cell_type": "markdown",
   "metadata": {},
   "source": [
    "## Reading the Data"
   ]
  },
  {
   "cell_type": "code",
   "execution_count": null,
   "metadata": {},
   "outputs": [],
   "source": [
    "spotify_data = pd.read_csv(\"D:\\\\bs4\\music-recommendation\\\\SpotifyRecommenderSystem\\\\data\\\\data.csv.zip\")   \n",
    "genre_data = pd.read_csv('D:\\\\bs4\\\\music-recommendation\\\\SpotifyRecommenderSystem\\\\data\\\\data_by_genres.csv') \n",
    "data_by_year = pd.read_csv('D:\\\\bs4\\\\music-recommendation\\\\SpotifyRecommenderSystem\\\\data\\\\data_by_year.csv')   \n",
    "spotify_data.head(10)"
   ]
  },
  {
   "cell_type": "code",
   "execution_count": null,
   "metadata": {},
   "outputs": [],
   "source": [
    "spotify_data.info()"
   ]
  },
  {
   "cell_type": "code",
   "execution_count": null,
   "metadata": {},
   "outputs": [],
   "source": [
    "genre_data.info()"
   ]
  },
  {
   "cell_type": "code",
   "execution_count": null,
   "metadata": {},
   "outputs": [],
   "source": [
    "data_by_year.info()"
   ]
  },
  {
   "cell_type": "markdown",
   "metadata": {},
   "source": [
    "## Exploratory Data Analysis"
   ]
  },
  {
   "cell_type": "code",
   "execution_count": null,
   "metadata": {},
   "outputs": [],
   "source": [
    "sns.distplot(spotify_data['popularity'])"
   ]
  },
  {
   "cell_type": "markdown",
   "metadata": {},
   "source": [
    "### Music Over Time"
   ]
  },
  {
   "cell_type": "code",
   "execution_count": null,
   "metadata": {},
   "outputs": [],
   "source": [
    "def get_decade(year):\n",
    "    \n",
    "    period_start = int(year/10) * 10\n",
    "    decade = '{}'.format(period_start)\n",
    "    \n",
    "    return decade\n",
    "\n",
    "spotify_data['decade'] = spotify_data['year'].apply(get_decade)"
   ]
  },
  {
   "cell_type": "code",
   "execution_count": null,
   "metadata": {},
   "outputs": [],
   "source": [
    "sns.set(rc={'figure.figsize':(11 ,6)})\n",
    "sns.countplot(spotify_data['decade'])"
   ]
  },
  {
   "cell_type": "code",
   "execution_count": null,
   "metadata": {},
   "outputs": [],
   "source": [
    "import plotly.express as px \n",
    "\n",
    "sound_features = ['acousticness', 'danceability', 'energy', 'instrumentalness', 'liveness', 'valence']\n",
    "fig = px.line(data_by_year, x='year', y=sound_features)\n",
    "\n",
    "fig.show()\n",
    "\n",
    "\n",
    "#report = dp.Report(dp.Plot(fig) ) #Create a report\n",
    "#report.publish(name='music_over_time', open=True, visibility='PUBLIC') #Publish the report"
   ]
  },
  {
   "cell_type": "code",
   "execution_count": null,
   "metadata": {},
   "outputs": [],
   "source": [
    "fig = px.line(data_by_year, x='year', y='tempo')\n",
    "\n",
    "fig.show()\n",
    "\n",
    "\n",
    "#report = dp.Report(dp.Plot(fig) ) #Create a report\n",
    "#report.publish(name='music_tempo_over_time', open=True, visibility='PUBLIC') #Publish the report"
   ]
  },
  {
   "cell_type": "markdown",
   "metadata": {},
   "source": [
    "### Characteristics of Different Genres"
   ]
  },
  {
   "cell_type": "code",
   "execution_count": null,
   "metadata": {},
   "outputs": [],
   "source": [
    "top10_genres = genre_data.nlargest(10, 'popularity')"
   ]
  },
  {
   "cell_type": "code",
   "execution_count": null,
   "metadata": {},
   "outputs": [],
   "source": [
    "fig = px.bar(top10_genres, x='genres', y=['valence', 'energy', 'danceability', 'acousticness'], barmode='group')\n",
    "\n",
    "fig.show()\n",
    "\n",
    "\n",
    "#report = dp.Report(dp.Plot(fig) ) #Create a report\n",
    "#report.publish(name='sound_of_different_genres', open=True, visibility='PUBLIC') #Publish the report"
   ]
  },
  {
   "cell_type": "markdown",
   "metadata": {},
   "source": [
    "## Clustering Genres"
   ]
  },
  {
   "cell_type": "code",
   "execution_count": null,
   "metadata": {},
   "outputs": [],
   "source": [
    "from sklearn.cluster import KMeans\n",
    "from sklearn.preprocessing import StandardScaler\n",
    "from sklearn.pipeline import Pipeline\n",
    "\n",
    "cluster_pipeline = Pipeline([('scaler', StandardScaler()), ('kmeans', KMeans(n_clusters=10))])\n",
    "\n",
    "X = genre_data.select_dtypes(np.number)\n",
    "cluster_pipeline.fit(X)\n",
    "genre_data['cluster'] = cluster_pipeline.predict(X) "
   ]
  },
  {
   "cell_type": "code",
   "execution_count": null,
   "metadata": {},
   "outputs": [],
   "source": [
    "from sklearn.manifold import TSNE\n",
    "\n",
    "tsne_pipeline = Pipeline([('scaler', StandardScaler()), ('tsne', TSNE(n_components=2, verbose=2))])\n",
    "genre_embedding = tsne_pipeline.fit_transform(X)\n",
    "\n",
    "projection = pd.DataFrame(columns=['x', 'y'], data=genre_embedding)\n",
    "projection['genres'] = genre_data['genres']\n",
    "projection['cluster'] = genre_data['cluster']"
   ]
  },
  {
   "cell_type": "code",
   "execution_count": null,
   "metadata": {},
   "outputs": [],
   "source": [
    "import plotly.express as px\n",
    "\n",
    "fig = px.scatter(\n",
    "    projection, x='x', y='y', color='cluster', hover_data=['x', 'y', 'genres'])\n",
    "fig.show()\n",
    "    \n",
    "# report = dp.Report(dp.Plot(fig) ) #Create a report\n",
    "# report.publish(name='clustering_genres', open=True, visibility='PUBLIC') #Publish the report"
   ]
  },
  {
   "cell_type": "markdown",
   "metadata": {},
   "source": [
    "## Clustering Songs"
   ]
  },
  {
   "cell_type": "code",
   "execution_count": null,
   "metadata": {},
   "outputs": [],
   "source": [
    "song_cluster_pipeline = Pipeline([('scaler', StandardScaler()), \n",
    "                                  ('kmeans', KMeans(n_clusters=20, \n",
    "                                   verbose=2))], verbose=True)\n",
    "X = spotify_data.select_dtypes(np.number)\n",
    "number_cols = list(X.columns)\n",
    "song_cluster_pipeline.fit(X)"
   ]
  },
  {
   "cell_type": "code",
   "execution_count": null,
   "metadata": {},
   "outputs": [],
   "source": [
    "song_cluster_labels = song_cluster_pipeline.predict(X)"
   ]
  },
  {
   "cell_type": "code",
   "execution_count": null,
   "metadata": {},
   "outputs": [],
   "source": [
    "spotify_data['cluster_label'] = song_cluster_labels"
   ]
  },
  {
   "cell_type": "code",
   "execution_count": null,
   "metadata": {},
   "outputs": [],
   "source": [
    "from sklearn.decomposition import PCA\n",
    "\n",
    "pca_pipeline = Pipeline([('scaler', StandardScaler()), ('PCA', PCA(n_components=2))])\n",
    "song_embedding = pca_pipeline.fit_transform(X)\n",
    "\n",
    "projection = pd.DataFrame(columns=['x', 'y'], data=song_embedding)\n",
    "projection['title'] = spotify_data['name']\n",
    "projection['cluster'] = spotify_data['cluster_label']"
   ]
  },
  {
   "cell_type": "code",
   "execution_count": null,
   "metadata": {},
   "outputs": [],
   "source": [
    "import plotly.express as px\n",
    "\n",
    "fig = px.scatter(\n",
    "    projection, x='x', y='y', color='cluster', hover_data=['x', 'y', 'title'])\n",
    "fig.show()\n",
    "\n",
    "\n",
    "# report = dp.Report(dp.Plot(fig) ) #Create a report\n",
    "# report.publish(name='clustering_songs', open=True, visibility='PUBLIC') #Publish the report"
   ]
  },
  {
   "cell_type": "markdown",
   "metadata": {},
   "source": [
    "## Building a Content-Based Recommender System"
   ]
  },
  {
   "cell_type": "code",
   "execution_count": null,
   "metadata": {},
   "outputs": [],
   "source": [
    "from spotipy.oauth2 import SpotifyClientCredentials\n",
    "from collections import defaultdict\n",
    "import os\n",
    "os.environ[\"SPOTIPY_CLIENT_ID\"] = \"00597080cc594010b69e8406c08edfa3\"\n",
    "os.environ[\"SPOTIPY_CLIENT_SECRET\"] = \"165ccddc2e04454cbd0da4ee29bfd667\"\n",
    "\n",
    "sp = spotipy.Spotify(auth_manager=SpotifyClientCredentials(client_id=os.environ[\"SPOTIPY_CLIENT_ID\"],\n",
    "                                                           client_secret=os.environ[\"SPOTIPY_CLIENT_SECRET\"]))\n",
    "\n",
    "\n",
    "def find_song(name, year):\n",
    "    \n",
    "    song_data = defaultdict()\n",
    "    results = sp.search(q= 'track: {} year: {}'.format(name,\n",
    "                                                       year), limit=1)\n",
    "    if results['tracks']['items'] == []:\n",
    "        return None\n",
    "    \n",
    "    results = results['tracks']['items'][0]\n",
    "\n",
    "    track_id = results['id']\n",
    "    audio_features = sp.audio_features(track_id)[0]\n",
    "    \n",
    "    song_data['name'] = [name]\n",
    "    song_data['year'] = [year]\n",
    "    song_data['explicit'] = [int(results['explicit'])]\n",
    "    song_data['duration_ms'] = [results['duration_ms']]\n",
    "    song_data['popularity'] = [results['popularity']]\n",
    "    \n",
    "    for key, value in audio_features.items():\n",
    "        song_data[key] = value\n",
    "    \n",
    "    return pd.DataFrame(song_data)\n",
    "    "
   ]
  },
  {
   "cell_type": "code",
   "execution_count": null,
   "metadata": {},
   "outputs": [],
   "source": [
    "from collections import defaultdict\n",
    "from sklearn.metrics import euclidean_distances\n",
    "from scipy.spatial.distance import cdist\n",
    "import difflib\n",
    "\n",
    "number_cols = ['valence', 'year', 'acousticness', 'danceability', 'duration_ms', 'energy', 'explicit',\n",
    " 'instrumentalness', 'key', 'liveness', 'loudness', 'mode', 'popularity', 'speechiness', 'tempo']\n",
    "\n",
    "def get_song_data(song, spotify_data):\n",
    "    \n",
    "    try:\n",
    "        song_data = spotify_data[(spotify_data['name'] == song['name']) \n",
    "                                & (spotify_data['year'] == song['year'])].iloc[0]\n",
    "        return song_data\n",
    "    \n",
    "    except IndexError:\n",
    "        return find_song(song['name'], song['year'])\n",
    "        \n",
    "def get_mean_vector(song_list, spotify_data):\n",
    "    song_vectors = []\n",
    "    for song in song_list:\n",
    "        song_data = get_song_data(song, spotify_data)\n",
    "        if song_data is None:\n",
    "            print('Warning: {} does not exist in Spotify or in database'.format(song['name']))\n",
    "            continue\n",
    "        song_vector = song_data[number_cols].values\n",
    "        song_vectors.append(song_vector)  \n",
    "    \n",
    "    song_matrix = np.array(list(song_vectors))\n",
    "    return np.mean(song_matrix, axis=0)\n",
    "\n",
    "def flatten_dict_list(dict_list):\n",
    "    \n",
    "    flattened_dict = defaultdict()\n",
    "    for key in dict_list[0].keys():\n",
    "        flattened_dict[key] = []\n",
    "    \n",
    "    for dictionary in dict_list:\n",
    "        for key, value in dictionary.items():\n",
    "            flattened_dict[key].append(value)\n",
    "            \n",
    "    return flattened_dict\n",
    "        \n",
    "\n",
    "def recommend_songs( song_list, spotify_data, n_songs=10):\n",
    "    \n",
    "    metadata_cols = ['name', 'year', 'artists']\n",
    "    song_dict = flatten_dict_list(song_list)\n",
    "    \n",
    "    song_center = get_mean_vector(song_list, spotify_data)\n",
    "    scaler = song_cluster_pipeline.steps[0][1]\n",
    "    scaled_data = scaler.transform(spotify_data[number_cols])\n",
    "    scaled_song_center = scaler.transform(song_center.reshape(1, -1))\n",
    "    distances = cdist(scaled_song_center, scaled_data, 'cosine')\n",
    "    index = list(np.argsort(distances)[:, :n_songs][0])\n",
    "    \n",
    "    rec_songs = spotify_data.iloc[index]\n",
    "    rec_songs = rec_songs[~rec_songs['name'].isin(song_dict['name'])]\n",
    "    return rec_songs[metadata_cols].to_dict(orient='records')\n"
   ]
  },
  {
   "cell_type": "code",
   "execution_count": null,
   "metadata": {},
   "outputs": [],
   "source": [
    "recommend_songs([{'name': 'Come As You Are', 'year':1991},\n",
    "                {'name': 'Smells Like Teen Spirit', 'year': 1991},\n",
    "                {'name': 'Lithium', 'year': 1992},\n",
    "                {'name': 'All Apologies', 'year': 1993},\n",
    "                {'name': 'Stay Away', 'year': 1993}],  spotify_data)"
   ]
  },
  {
   "cell_type": "code",
   "execution_count": null,
   "metadata": {},
   "outputs": [],
   "source": [
    "recommend_songs([{'name':'Beat It', 'year': 1982},\n",
    "                 {'name': 'Billie Jean', 'year': 1988},\n",
    "                 {'name': 'Thriller', 'year': 1982}], spotify_data)"
   ]
  },
  {
   "cell_type": "code",
   "execution_count": 70,
   "metadata": {},
   "outputs": [
    {
     "name": "stderr",
     "output_type": "stream",
     "text": [
      "c:\\Users\\shrey\\AppData\\Local\\Programs\\Python\\Python310\\lib\\site-packages\\sklearn\\base.py:439: UserWarning:\n",
      "\n",
      "X does not have valid feature names, but StandardScaler was fitted with feature names\n",
      "\n"
     ]
    },
    {
     "data": {
      "text/plain": [
       "[{'name': 'Would That I', 'year': 2019, 'artists': \"['Hozier']\"},\n",
       " {'name': 'Teen Idle', 'year': 2012, 'artists': \"['MARINA']\"},\n",
       " {'name': 'Who Am I', 'year': 2020, 'artists': \"['NEEDTOBREATHE']\"},\n",
       " {'name': 'Whiskey Sunrise', 'year': 2020, 'artists': \"['Chris Stapleton']\"},\n",
       " {'name': 'Worth It', 'year': 2017, 'artists': \"['Danielle Bradbery']\"},\n",
       " {'name': 'I Lost You', 'year': 2017, 'artists': \"['Dylan Scott']\"},\n",
       " {'name': 'Esta Cayendo', 'year': 2013, 'artists': \"['Jose Luis Reyes']\"},\n",
       " {'name': 'Give It All We Got Tonight',\n",
       "  'year': 2013,\n",
       "  'artists': \"['George Strait']\"},\n",
       " {'name': 'A Lovely Mess', 'year': 2014, 'artists': \"['Front Porch Step']\"},\n",
       " {'name': 'Without You',\n",
       "  'year': 2020,\n",
       "  'artists': \"['Luke Combs', 'Amanda Shires']\"}]"
      ]
     },
     "execution_count": 70,
     "metadata": {},
     "output_type": "execute_result"
    }
   ],
   "source": [
    "recommend_songs([{'name':'Kesariya', 'year': 2021},\n",
    "                 {'name': 'Vaaste', 'year': 2019},\n",
    "                 {'name': 'Rowdy Baby', 'year': 2018}], spotify_data)"
   ]
  },
  {
   "attachments": {},
   "cell_type": "markdown",
   "metadata": {},
   "source": [
    "## Now using dbscan"
   ]
  },
  {
   "cell_type": "code",
   "execution_count": 69,
   "metadata": {},
   "outputs": [
    {
     "name": "stderr",
     "output_type": "stream",
     "text": [
      "C:\\Users\\shrey\\AppData\\Local\\Temp\\ipykernel_17700\\3909432250.py:47: FutureWarning:\n",
      "\n",
      "The frame.append method is deprecated and will be removed from pandas in a future version. Use pandas.concat instead.\n",
      "\n",
      "C:\\Users\\shrey\\AppData\\Local\\Temp\\ipykernel_17700\\3909432250.py:47: FutureWarning:\n",
      "\n",
      "The frame.append method is deprecated and will be removed from pandas in a future version. Use pandas.concat instead.\n",
      "\n",
      "C:\\Users\\shrey\\AppData\\Local\\Temp\\ipykernel_17700\\3909432250.py:47: FutureWarning:\n",
      "\n",
      "The frame.append method is deprecated and will be removed from pandas in a future version. Use pandas.concat instead.\n",
      "\n",
      "C:\\Users\\shrey\\AppData\\Local\\Temp\\ipykernel_17700\\3909432250.py:47: FutureWarning:\n",
      "\n",
      "The frame.append method is deprecated and will be removed from pandas in a future version. Use pandas.concat instead.\n",
      "\n",
      "C:\\Users\\shrey\\AppData\\Local\\Temp\\ipykernel_17700\\3909432250.py:47: FutureWarning:\n",
      "\n",
      "The frame.append method is deprecated and will be removed from pandas in a future version. Use pandas.concat instead.\n",
      "\n"
     ]
    },
    {
     "name": "stdout",
     "output_type": "stream",
     "text": [
      "dbscan: DBSCAN(eps=3, min_samples=2)\n",
      "labels: [-1 -1  0 -1  0]\n",
      "Number of clusters: 1\n",
      "Cluster 0:\n",
      "['Blinding Lights - The Weeknd', 'drivers license - Olivia Rodrigo']\n",
      "Recommendations for cluster 0:\n",
      "Hard Sometimes - Ruel\n",
      "Toosie Slide - Drake\n",
      "Liability - Lorde\n",
      "willow - Taylor Swift\n",
      "Until I Found You - Stephen Sanchez\n"
     ]
    }
   ],
   "source": [
    "# Import libraries\n",
    "import spotipy\n",
    "from spotipy.oauth2 import SpotifyClientCredentials\n",
    "import pandas as pd\n",
    "from sklearn.cluster import DBSCAN\n",
    "from sklearn.preprocessing import StandardScaler\n",
    "\n",
    "# Initialize Spotify API\n",
    "client_id = \"your_client_id\"\n",
    "client_secret = \"your_client_secret\"\n",
    "client_credentials_manager = SpotifyClientCredentials(client_id=client_id, client_secret=client_secret)\n",
    "sp = spotipy.Spotify(client_credentials_manager=client_credentials_manager)\n",
    "\n",
    "# Define a function to get audio features of a track\n",
    "def get_audio_features(track):\n",
    "    # Get track id\n",
    "    track_id = sp.search(track, limit=1)[\"tracks\"][\"items\"][0][\"id\"]\n",
    "    # Get audio features\n",
    "    audio_features = sp.audio_features(track_id)[0]\n",
    "    # Return a dictionary of audio features\n",
    "    return {\n",
    "        \"danceability\": audio_features[\"danceability\"],\n",
    "        \"energy\": audio_features[\"energy\"],\n",
    "        \"loudness\": audio_features[\"loudness\"],\n",
    "        \"speechiness\": audio_features[\"speechiness\"],\n",
    "        \"acousticness\": audio_features[\"acousticness\"],\n",
    "        \"instrumentalness\": audio_features[\"instrumentalness\"],\n",
    "        \"liveness\": audio_features[\"liveness\"],\n",
    "        \"valence\": audio_features[\"valence\"],\n",
    "        \"tempo\": audio_features[\"tempo\"]\n",
    "    }\n",
    "\n",
    "\n",
    "tracks = [\"Bad Habits - Ed Sheeran\", \n",
    "          \"Levitating - Dua Lipa\",  \n",
    "          \"Blinding Lights - The Weeknd\",\n",
    "          \"Happier Than Ever - Billie Eilish\",\n",
    "          \"drivers license - Olivia Rodrigo\"]\n",
    "\n",
    "# Define a function to get recommendations based on DBSCAN clustering\n",
    "def get_recommendations(tracks):\n",
    "    # Create an empty dataframe to store the tracks and their audio features\n",
    "    df = pd.DataFrame(columns=[\"track\", \"danceability\", \"energy\", \"loudness\", \"speechiness\", \"acousticness\", \"instrumentalness\", \"liveness\", \"valence\", \"tempo\"])\n",
    "    # For each track, get the audio features and append to the dataframe\n",
    "    for track in tracks:\n",
    "        audio_features = get_audio_features(track)\n",
    "        df = df.append({\"track\": track, **audio_features}, ignore_index=True)\n",
    "    # Scale the audio features\n",
    "    scaler = StandardScaler()\n",
    "    X = scaler.fit_transform(df.drop(\"track\", axis=1))\n",
    "    # Fit DBSCAN with eps=0.5 and min_samples=2\n",
    "    dbscan = DBSCAN(eps=3, min_samples=2).fit(X)\n",
    "    print(\"dbscan:\",dbscan)\n",
    "    # Get the cluster labels\n",
    "    labels = dbscan.labels_\n",
    "    print(\"labels:\",labels)\n",
    "    # Get the number of clusters (excluding noise)\n",
    "    n_clusters = len(set(labels)) - (1 if -1 in labels else 0)\n",
    "    # Print the number of clusters and the tracks in each cluster\n",
    "    print(f\"Number of clusters: {n_clusters}\")\n",
    "    for i in range(n_clusters):\n",
    "        print(f\"Cluster {i}:\")\n",
    "        print(df[labels == i][\"track\"].to_list())\n",
    "    # For each cluster, get 5 recommendations from Spotify based on the seed tracks in that cluster\n",
    "    for i in range(n_clusters):\n",
    "        print(f\"Recommendations for cluster {i}:\")\n",
    "        seed_tracks = df[labels == i][\"track\"].to_list()\n",
    "        seed_ids = [sp.search(track, limit=1)[\"tracks\"][\"items\"][0][\"id\"] for track in seed_tracks]\n",
    "        recommendations = sp.recommendations(seed_tracks=seed_ids, limit=5)[\"tracks\"]\n",
    "        for rec in recommendations:\n",
    "            print(rec[\"name\"], \"-\", rec[\"artists\"][0][\"name\"])\n",
    "            \n",
    "get_recommendations(tracks)"
   ]
  },
  {
   "cell_type": "code",
   "execution_count": null,
   "metadata": {},
   "outputs": [],
   "source": []
  }
 ],
 "metadata": {
  "kernelspec": {
   "display_name": "Python 3",
   "language": "python",
   "name": "python3"
  },
  "language_info": {
   "codemirror_mode": {
    "name": "ipython",
    "version": 3
   },
   "file_extension": ".py",
   "mimetype": "text/x-python",
   "name": "python",
   "nbconvert_exporter": "python",
   "pygments_lexer": "ipython3",
   "version": "3.10.10"
  }
 },
 "nbformat": 4,
 "nbformat_minor": 4
}
